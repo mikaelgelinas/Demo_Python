{
 "cells": [
  {
   "cell_type": "markdown",
   "metadata": {},
   "source": [
    "# Démonstration\n",
    "Re-bienvenu à la démonstration.\n",
    "\n",
    "Si vous n'avez pas installez Anaconda ou VS Code, retournez dans le `README.md` pour compléter les prérequis et l'installation.\n",
    "\n",
    "En premier lieu, voici quelques bases à savoir.\n",
    "- Il existe principalement 2 types de cellules dans un notebook (le présent fichier).\n",
    "  - Cellule de type markdown (le texte que vous lisez présentement)\n",
    "  - Cellule de type code, la cellule suivante\n",
    "\n",
    "Pour `exécuter` une cellule de type code, vous pouvez cliquer sur le petit bouton `play` qui apparait lorsque vous passez la souris sur la cellule code.\n",
    "\n",
    "Pour éditer une cellule de type markdown, double cliquez sur la cellule. Pour terminer l'édition, vous pouvez cliquer sur le crochet qui se trouve juste en haut à gauche de la cellule.\n",
    "\n",
    "Les cellules suivantes vous amèneront à avoir une compréhension de comment programmer en python. Si vous souhaitez en savoir plus, il existe une panoplie d'aide sur internet, majoritairement en anglais.\n",
    "- https://python.doctor/page-cours-python-debutant-documentation\n",
    "- https://www.w3schools.com/python/default.asp\n",
    "\n",
    "Il existe plusieurs site d'aide, le meilleur : `https://www.google.com/`.\n",
    "- https://www.google.com/\n",
    "- https://stackoverflow.com/"
   ]
  },
  {
   "cell_type": "code",
   "execution_count": 1,
   "metadata": {},
   "outputs": [
    {
     "name": "stdout",
     "output_type": "stream",
     "text": [
      "Imprimer à l'écran la valeur de la variable var : \n",
      "1\n",
      "Imprimer à l'écran la valeur de la variable var : 1\n"
     ]
    }
   ],
   "source": [
    "# Dans une cellule de code comme celle ici, lorsque la première ligne commence par un '#', il s'agit d'un commentaire, \n",
    "# cette ligne ne sera pas exécutée.\n",
    "\n",
    "# Avec Python, les variables doivent commencer par une lettre, minuscule ou majuscule n'a pas d'importance.\n",
    "# Ils ne peuvent pas contenir de caractères spéciaux comme les accents ni les ponctuations.\n",
    "\n",
    "var = 1\n",
    "\n",
    "# Python a plusieurs fonctions déjà intégrées.\n",
    "print(\"Imprimer à l'écran la valeur de la variable var : \")\n",
    "print(var)\n",
    "\n",
    "# Nous pouvons l'afficher en une seule ligne :\n",
    "print(f\"Imprimer à l'écran la valeur de la variable var : {var}\")\n",
    "\n"
   ]
  },
  {
   "cell_type": "code",
   "execution_count": 3,
   "metadata": {},
   "outputs": [
    {
     "name": "stdout",
     "output_type": "stream",
     "text": [
      "Imprimer à l'écran la valeur de la variable var : une chaîne de caractères, type : <class 'str'>\n",
      "Imprimer à l'écran la valeur de la variable var : 1, type : <class 'int'>\n",
      "Imprimer à l'écran la valeur de la variable var : 1.5, type : <class 'float'>\n"
     ]
    }
   ],
   "source": [
    "# En python, contrairement à plusieurs autres langages, les variables ne sont pas typées.\n",
    "# Ce qui veut dire que nous pouvons assigner une valeur de type entier à une variable de type chaîne de caractères.\n",
    "\n",
    "var = \"une chaîne de caractères\"\n",
    "print(f\"Imprimer à l'écran la valeur de la variable var : {var}, type : {type(var)}\")\n",
    "\n",
    "var = 1 # un entier\n",
    "print(f\"Imprimer à l'écran la valeur de la variable var : {var}, type : {type(var)}\")\n",
    "\n",
    "var = 1.5 # un réel, en anglais : float\n",
    "print(f\"Imprimer à l'écran la valeur de la variable var : {var}, type : {type(var)}\")"
   ]
  },
  {
   "cell_type": "code",
   "execution_count": 4,
   "metadata": {},
   "outputs": [
    {
     "name": "stdout",
     "output_type": "stream",
     "text": [
      "[1, 2, 3, 4, 5]\n",
      "[[1, 2, 3], [4, 5, 6], [7, 8, 9]]\n"
     ]
    }
   ],
   "source": [
    "# Nous pouvons utiliser des tableaux et des listes pour stocker des données.\n",
    "\n",
    "# Liste :\n",
    "var = [1, 2, 3, 4, 5]\n",
    "print(var)\n",
    "\n",
    "# Tableau :\n",
    "var = [[1, 2, 3], [4, 5, 6], [7, 8, 9]]\n",
    "print(var)\n",
    "\n",
    "# Il existe plusieurs autres types de variables."
   ]
  },
  {
   "cell_type": "code",
   "execution_count": 5,
   "metadata": {},
   "outputs": [
    {
     "name": "stdout",
     "output_type": "stream",
     "text": [
      "3\n"
     ]
    }
   ],
   "source": [
    "# Évidemment, assigner des valeurs à une variable ne sert pas à grand chose si elles sont toutes fixes\n",
    "# Nous pouvons y faire des opérations mathématiques.\n",
    "\n",
    "var1 = 1\n",
    "var2 = 2\n",
    "\n",
    "resultat = var1 + var2\n",
    "\n",
    "print(resultat)"
   ]
  },
  {
   "cell_type": "code",
   "execution_count": 9,
   "metadata": {},
   "outputs": [
    {
     "name": "stdout",
     "output_type": "stream",
     "text": [
      "[1, 2, 3, 4, 5, 6, 7, 8, 9, 10]\n",
      "#################\n",
      "[[1, 2, 3], [4, 5, 6], [7, 8, 9], [1, 2, 3], [4, 5, 6], [7, 8, 9]]\n",
      "#################\n",
      "[[1, 2, 3], [4, 5, 6], [7, 8, 9], [1, 2, 3], [4, 5, 6], [7, 8, 9]]\n"
     ]
    }
   ],
   "source": [
    "# Nous pouvon aussi faire des opérations sur des listes ou des tableaux directement.\n",
    "\n",
    "# Liste :\n",
    "var1 = [1, 2, 3, 4, 5]\n",
    "var2 = [6, 7, 8, 9, 10]\n",
    "print(var1 + var2)\n",
    "# Pourquoi les deux listes ne se sont pas additionnées ?\n",
    "# Faites une recherche sur la concaténation de listes...\n",
    "\n",
    "# Tableau :\n",
    "print(\"#################\")\n",
    "var = [[1, 2, 3], [4, 5, 6], [7, 8, 9]]\n",
    "print(var*2)\n",
    "\n",
    "print(\"#################\")\n",
    "print(var + var)"
   ]
  },
  {
   "cell_type": "code",
   "execution_count": 18,
   "metadata": {},
   "outputs": [
    {
     "name": "stdout",
     "output_type": "stream",
     "text": [
      "1\n",
      "2\n",
      "3\n",
      "4\n",
      "5\n",
      "#################\n",
      "0\n",
      "1\n",
      "2\n",
      "3\n",
      "4\n",
      "#################\n",
      "0\n",
      "1\n",
      "2\n",
      "3\n",
      "4\n",
      "#################\n",
      "0\n",
      "2\n",
      "4\n",
      "6\n",
      "8\n",
      "#################\n",
      "2\n",
      "4\n",
      "6\n",
      "8\n"
     ]
    }
   ],
   "source": [
    "# Comme vu précédemment, il n'est pas possible de magiquement faire des opérations sur des listes ou des tableaux.\n",
    "# Il faut utiliser des boucles pour les parcourir.\n",
    "# \"for\" est votre ami.\n",
    "\n",
    "var1 = [1, 2, 3, 4, 5]\n",
    "\n",
    "# Ce for permet de parcourir une liste et de faire des affichages sur chaque élément.\n",
    "for x in var1:\n",
    "    print(x)\n",
    "print(\"#################\")\n",
    "\n",
    "#range() est une fonction qui permet de créer une liste de nombres. \n",
    "# Le premier argument de range() est le nombre de départ, le deuxième est le nombre de fin, le troisième est le pas.\n",
    "# Pourquoi le 5 n'est pas imprimé?\n",
    "for x in range(0,5,1):\n",
    "    print(x)\n",
    "print(\"#################\")\n",
    "# La boucle suivante est identique à la précédente.    \n",
    "for x in range(5):\n",
    "    print(x)\n",
    "print(\"#################\")\n",
    "\n",
    "for x in range(0,10,2):\n",
    "    print(x)\n",
    "print(\"#################\")\n",
    "\n",
    "for x in range(2,10,2):\n",
    "    print(x)"
   ]
  },
  {
   "cell_type": "code",
   "execution_count": 19,
   "metadata": {},
   "outputs": [
    {
     "name": "stdout",
     "output_type": "stream",
     "text": [
      "[7, 9, 11, 13, 15]\n"
     ]
    }
   ],
   "source": [
    "# Maintenant, faisons l'addition de deux listes.\n",
    "var1 = [1, 2, 3, 4, 5]\n",
    "var2 = [6, 7, 8, 9, 10]\n",
    "\n",
    "resultat = [] # On crée une liste vide.\n",
    "\n",
    "# len est une fonction qui permet de connaître la taille d'une liste.\n",
    "for i in range(len(var1)):\n",
    "    resultat.append(var1[i] + var2[i]) # On ajoute à la liste vide le résultat de l'addition de deux éléments de la liste.\n",
    "    \n",
    "print(resultat)"
   ]
  },
  {
   "cell_type": "code",
   "execution_count": 24,
   "metadata": {},
   "outputs": [
    {
     "name": "stdout",
     "output_type": "stream",
     "text": [
      "C'est vrai\n",
      "C'était vraiment faux\n",
      "1 < 2, C'est vrai\n",
      "1 == 1, C'est vrai\n",
      "les deux sont identique\n",
      "\"patate\" == \"patate\" C'est vrai\n",
      "les deux sont identique\n",
      "(1+1) == 2, C'est vrai\n"
     ]
    }
   ],
   "source": [
    "# Maintenant, si nous ne voulions que faire l'addition des éléments de la première liste qui sont paire?\n",
    "# \"if\" est votre ami.\n",
    "\n",
    "if(True):\n",
    "    print(\"C'est vrai\")\n",
    "    \n",
    "if(False):\n",
    "    print(\"C'est faux\")\n",
    "else:\n",
    "    print(\"C'était vraiment faux\")\n",
    "    \n",
    "if(1 < 2):\n",
    "    print(\"1 < 2, C'est vrai\")\n",
    "    \n",
    "if(1 == 1):\n",
    "    print(\"1 == 1, C'est vrai\")\n",
    "    print(\"les deux sont identique\")\n",
    "    \n",
    "if(\"patate\" == \"patate\"):\n",
    "    print(\"\\\"patate\\\" == \\\"patate\\\", C'est vrai\")\n",
    "    print(\"les deux sont identique\")\n",
    "    \n",
    "if((1+1) == 2):\n",
    "    print(\"(1+1) == 2, C'est vrai\")\n"
   ]
  },
  {
   "cell_type": "code",
   "execution_count": 29,
   "metadata": {},
   "outputs": [
    {
     "name": "stdout",
     "output_type": "stream",
     "text": [
      "[9, 13]\n"
     ]
    }
   ],
   "source": [
    "var1 = [1, 2, 3, 4, 5]\n",
    "var2 = [6, 7, 8, 9, 10]\n",
    "\n",
    "resultat = []\n",
    "\n",
    "for i in range(len(var1)):\n",
    "    if(var1[i] % 2 == 0): # On utilise ici un modulo (%), je vous invite à chercher sur internet. ;)\n",
    "        resultat.append(var1[i] + var2[i])\n",
    "    \n",
    "print(resultat)"
   ]
  },
  {
   "cell_type": "code",
   "execution_count": null,
   "metadata": {},
   "outputs": [],
   "source": []
  }
 ],
 "metadata": {
  "interpreter": {
   "hash": "4d6a3aa1c9ecd92ae97edbdcf3e33df99c3e25412dd0280a36f286d4c187fbfe"
  },
  "kernelspec": {
   "display_name": "Python 3.9.7 64-bit ('fdemopython': conda)",
   "language": "python",
   "name": "python3"
  },
  "language_info": {
   "codemirror_mode": {
    "name": "ipython",
    "version": 3
   },
   "file_extension": ".py",
   "mimetype": "text/x-python",
   "name": "python",
   "nbconvert_exporter": "python",
   "pygments_lexer": "ipython3",
   "version": "3.9.7"
  },
  "orig_nbformat": 4
 },
 "nbformat": 4,
 "nbformat_minor": 2
}
