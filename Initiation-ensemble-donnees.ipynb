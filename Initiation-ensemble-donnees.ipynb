{
 "cells": [
  {
   "cell_type": "markdown",
   "metadata": {},
   "source": [
    "# Manipulation des ensembles de données\n",
    "Maintenant que nous avons une base en python, nous pouvons explorer la manipulation des données avant de commencer l'apprentissage de l'apprentissage machine.\n",
    "\n",
    "Le reste de l'exercice se fera sous la forme d'une exploration de données.\n",
    "\n",
    "Cependant, avant de rentrer dans le vif du sujet, vaut mieux avoir une connaissance de base de la manipulation des matrices!\n",
    "\n",
    "En premier, voyons numpy.\n",
    "\n",
    "Avant de commencer le code, notre environnement ne contient pas tous les paquets dont nous avons besoin. Dans une fenètre d'Anaconda prompt, activez votre environnement :\n",
    "\n",
    "`conda activate demo_python`\n",
    "\n",
    "Puis installez le paquet manquant :\n",
    "\n",
    "`pip install numpy`\n",
    "\n",
    "Une fois cette installation terminé, vous pouvez procéder à la prochaine cellule."
   ]
  },
  {
   "cell_type": "code",
   "execution_count": 2,
   "metadata": {},
   "outputs": [],
   "source": [
    "import numpy as np"
   ]
  },
  {
   "cell_type": "code",
   "execution_count": 3,
   "metadata": {},
   "outputs": [
    {
     "name": "stdout",
     "output_type": "stream",
     "text": [
      "Somme : 15\n",
      "Moyenne : 3.0\n",
      "Maximum : 5\n",
      "Minimum : 1\n"
     ]
    }
   ],
   "source": [
    "# Lors de l'apprentissage avec la démonstration de base de python, nous avons vu les listes, \n",
    "# bien qu'elles soient de bonne représentation d'une liste de chiffre, elles s'y pretent mal pour gérer les opérations mathématiques\n",
    "\n",
    "liste_nombre = [1,2,3,4,5] # C'est une liste bien ordinaire\n",
    "liste_numpy_nombre = np.array(liste_nombre) # On transforme la liste en un array de numpy\n",
    "print(f\"Somme : {liste_numpy_nombre.sum()}\")\n",
    "print(f\"Moyenne : {liste_numpy_nombre.mean()}\")\n",
    "print(f\"Maximum : {liste_numpy_nombre.max()}\")\n",
    "print(f\"Minimum : {liste_numpy_nombre.min()}\")\n",
    "\n",
    "# De plus, numpy est optimisé pour faire des opérations matricielles.\n",
    "# Je vous invite à consulter le site de numpy pour avoir une liste de toutes les opérations matricielles de numpy."
   ]
  },
  {
   "cell_type": "code",
   "execution_count": 10,
   "metadata": {},
   "outputs": [
    {
     "name": "stdout",
     "output_type": "stream",
     "text": [
      "[[1. 1. 1.]\n",
      " [1. 1. 1.]\n",
      " [1. 1. 1.]]\n",
      "<class 'numpy.ndarray'>\n",
      "(3, 3)\n",
      "[[0. 0. 0. 0.]\n",
      " [0. 0. 0. 0.]\n",
      " [0. 0. 0. 0.]]\n",
      "<class 'numpy.ndarray'>\n",
      "(3, 4)\n",
      "[[1 2 3]\n",
      " [4 5 6]]\n",
      "<class 'numpy.ndarray'>\n",
      "(2, 3)\n"
     ]
    }
   ],
   "source": [
    "# Nous pouvons créer des matrices facilement\n",
    "# np.ones crée une matrice ne contenant que des 1, alors que np.zeros crée une matrice ne contenant que des 0.\n",
    "matrice_carre = np.ones((3,3))\n",
    "print(matrice_carre)\n",
    "print(type(matrice_carre))\n",
    "print(matrice_carre.shape)\n",
    "# On peut créer une matrice de taille n x m\n",
    "matrice_rectangle = np.zeros((3,4))\n",
    "print(matrice_rectangle)\n",
    "print(type(matrice_rectangle))\n",
    "print(matrice_rectangle.shape)\n",
    "matrice = np.array([[1,2,3],[4,5,6]])\n",
    "print(matrice)\n",
    "print(type(matrice))\n",
    "print(matrice.shape)\n"
   ]
  },
  {
   "cell_type": "code",
   "execution_count": 5,
   "metadata": {},
   "outputs": [
    {
     "name": "stdout",
     "output_type": "stream",
     "text": [
      "Temps pour l'opération : 0.00012379999679978937\n",
      "3.0\n",
      "[[1, 1, 1], [1, 1, 1], [1, 1, 1]]\n",
      "Temps pour l'opération : 7.779999577905983e-05\n",
      "0\n"
     ]
    }
   ],
   "source": [
    "# De plus, numpy est optimisé pour faire des opérations matricielles.\n",
    "\n",
    "# Pour le prouver, complétez la fonction pour calculer la multiplication de deux matrices.\n",
    "# Pour vous aider, voici comment calculer deux matrices : https://www.alloprof.qc.ca/fr/eleves/bv/mathematiques/les-operations-sur-les-matrices-m1467\n",
    "def multiplication_matrice(matrice_1, matrice_2):\n",
    "    # fonction à compléter\n",
    "    return 0 # Le résultat de votre multiplication matricielle devrait vous retourner 3.\n",
    "\n",
    "# Ne modifiez pas le reste du code de cette cellule.\n",
    "import timeit\n",
    "matrice = np.ones(3) # Création d'une matrice 3x3 ne contenant que des 1.\n",
    "\n",
    "start = timeit.default_timer()\n",
    "resultat = np.dot(matrice, matrice)\n",
    "stop = timeit.default_timer()\n",
    "print(f\"Temps pour l'opération : {stop - start}\")\n",
    "print(resultat)\n",
    "\n",
    "liste_de_liste = [] # Fausse matrice\n",
    "for i in range(3):\n",
    "    liste_de_liste.append([1,1,1])\n",
    "print(liste_de_liste)\n",
    "start = timeit.default_timer()\n",
    "resultat = multiplication_matrice(liste_de_liste, liste_de_liste)\n",
    "stop = timeit.default_timer()\n",
    "print(f\"Temps pour l'opération : {stop - start}\")\n",
    "print(resultat)\n",
    "\n"
   ]
  },
  {
   "cell_type": "code",
   "execution_count": 19,
   "metadata": {},
   "outputs": [],
   "source": [
    "# Nous pourrions continuer longtemps avec numpy, mais nous allons utiliser pandas pour plus de facilité dans les opérations sur les matrices.\n",
    "# Retournons dans le prompt d'Anaconda pour installer pandas. J'imagine que vous avez une idée de comment faire... ;)\n",
    "import pandas as pd"
   ]
  },
  {
   "cell_type": "code",
   "execution_count": 20,
   "metadata": {},
   "outputs": [],
   "source": [
    "# Mais vous savez, installer les paquets un à un devient lourd et ce n'est pas du tout pratique \n",
    "# pour des installations automatisées en production...\n",
    "# Il y a moyen de faire des installations plus simple et plus robuste avec pip. Vous pouvez observer le fichier \"requirements.txt\".\n",
    "# Vous pouvez installer les paquets avec la commande \"pip install -r requirements.txt\".\n",
    "import seaborn as sns\n",
    "import matplotlib.pyplot as plt"
   ]
  },
  {
   "cell_type": "code",
   "execution_count": 24,
   "metadata": {},
   "outputs": [
    {
     "name": "stdout",
     "output_type": "stream",
     "text": [
      "(1797, 64)\n"
     ]
    }
   ],
   "source": [
    "# Afin d'avoir un jeu de données sur lequel jouer, nous allons installer un paquet supplémentaire : scikit-learn. \n",
    "# Vous savez déjà comment installer un paquet. ;)\n",
    "\n",
    "import sklearn.datasets as datasets\n",
    "digits = datasets.load_digits(as_frame=True) # Nous allons utiliser les données de digits de scikit-learn.\n",
    "# Les données de digits sont un jeu de données de chiffre écrit à la main représenté par une matrice de taille 1797x64. \n",
    "# Nous y reviendrons plus tard sur l'explication de ce jeu de données.\n",
    "X = digits.data\n",
    "y = digits.target\n",
    "images = digits.images\n",
    "print(X.shape)"
   ]
  },
  {
   "cell_type": "code",
   "execution_count": 16,
   "metadata": {},
   "outputs": [
    {
     "data": {
      "text/html": [
       "<div>\n",
       "<style scoped>\n",
       "    .dataframe tbody tr th:only-of-type {\n",
       "        vertical-align: middle;\n",
       "    }\n",
       "\n",
       "    .dataframe tbody tr th {\n",
       "        vertical-align: top;\n",
       "    }\n",
       "\n",
       "    .dataframe thead th {\n",
       "        text-align: right;\n",
       "    }\n",
       "</style>\n",
       "<table border=\"1\" class=\"dataframe\">\n",
       "  <thead>\n",
       "    <tr style=\"text-align: right;\">\n",
       "      <th></th>\n",
       "      <th>pixel_0_0</th>\n",
       "      <th>pixel_0_1</th>\n",
       "      <th>pixel_0_2</th>\n",
       "      <th>pixel_0_3</th>\n",
       "      <th>pixel_0_4</th>\n",
       "      <th>pixel_0_5</th>\n",
       "      <th>pixel_0_6</th>\n",
       "      <th>pixel_0_7</th>\n",
       "      <th>pixel_1_0</th>\n",
       "      <th>pixel_1_1</th>\n",
       "      <th>...</th>\n",
       "      <th>pixel_6_6</th>\n",
       "      <th>pixel_6_7</th>\n",
       "      <th>pixel_7_0</th>\n",
       "      <th>pixel_7_1</th>\n",
       "      <th>pixel_7_2</th>\n",
       "      <th>pixel_7_3</th>\n",
       "      <th>pixel_7_4</th>\n",
       "      <th>pixel_7_5</th>\n",
       "      <th>pixel_7_6</th>\n",
       "      <th>pixel_7_7</th>\n",
       "    </tr>\n",
       "  </thead>\n",
       "  <tbody>\n",
       "    <tr>\n",
       "      <th>0</th>\n",
       "      <td>0.0</td>\n",
       "      <td>0.0</td>\n",
       "      <td>5.0</td>\n",
       "      <td>13.0</td>\n",
       "      <td>9.0</td>\n",
       "      <td>1.0</td>\n",
       "      <td>0.0</td>\n",
       "      <td>0.0</td>\n",
       "      <td>0.0</td>\n",
       "      <td>0.0</td>\n",
       "      <td>...</td>\n",
       "      <td>0.0</td>\n",
       "      <td>0.0</td>\n",
       "      <td>0.0</td>\n",
       "      <td>0.0</td>\n",
       "      <td>6.0</td>\n",
       "      <td>13.0</td>\n",
       "      <td>10.0</td>\n",
       "      <td>0.0</td>\n",
       "      <td>0.0</td>\n",
       "      <td>0.0</td>\n",
       "    </tr>\n",
       "    <tr>\n",
       "      <th>1</th>\n",
       "      <td>0.0</td>\n",
       "      <td>0.0</td>\n",
       "      <td>0.0</td>\n",
       "      <td>12.0</td>\n",
       "      <td>13.0</td>\n",
       "      <td>5.0</td>\n",
       "      <td>0.0</td>\n",
       "      <td>0.0</td>\n",
       "      <td>0.0</td>\n",
       "      <td>0.0</td>\n",
       "      <td>...</td>\n",
       "      <td>0.0</td>\n",
       "      <td>0.0</td>\n",
       "      <td>0.0</td>\n",
       "      <td>0.0</td>\n",
       "      <td>0.0</td>\n",
       "      <td>11.0</td>\n",
       "      <td>16.0</td>\n",
       "      <td>10.0</td>\n",
       "      <td>0.0</td>\n",
       "      <td>0.0</td>\n",
       "    </tr>\n",
       "    <tr>\n",
       "      <th>2</th>\n",
       "      <td>0.0</td>\n",
       "      <td>0.0</td>\n",
       "      <td>0.0</td>\n",
       "      <td>4.0</td>\n",
       "      <td>15.0</td>\n",
       "      <td>12.0</td>\n",
       "      <td>0.0</td>\n",
       "      <td>0.0</td>\n",
       "      <td>0.0</td>\n",
       "      <td>0.0</td>\n",
       "      <td>...</td>\n",
       "      <td>5.0</td>\n",
       "      <td>0.0</td>\n",
       "      <td>0.0</td>\n",
       "      <td>0.0</td>\n",
       "      <td>0.0</td>\n",
       "      <td>3.0</td>\n",
       "      <td>11.0</td>\n",
       "      <td>16.0</td>\n",
       "      <td>9.0</td>\n",
       "      <td>0.0</td>\n",
       "    </tr>\n",
       "    <tr>\n",
       "      <th>3</th>\n",
       "      <td>0.0</td>\n",
       "      <td>0.0</td>\n",
       "      <td>7.0</td>\n",
       "      <td>15.0</td>\n",
       "      <td>13.0</td>\n",
       "      <td>1.0</td>\n",
       "      <td>0.0</td>\n",
       "      <td>0.0</td>\n",
       "      <td>0.0</td>\n",
       "      <td>8.0</td>\n",
       "      <td>...</td>\n",
       "      <td>9.0</td>\n",
       "      <td>0.0</td>\n",
       "      <td>0.0</td>\n",
       "      <td>0.0</td>\n",
       "      <td>7.0</td>\n",
       "      <td>13.0</td>\n",
       "      <td>13.0</td>\n",
       "      <td>9.0</td>\n",
       "      <td>0.0</td>\n",
       "      <td>0.0</td>\n",
       "    </tr>\n",
       "    <tr>\n",
       "      <th>4</th>\n",
       "      <td>0.0</td>\n",
       "      <td>0.0</td>\n",
       "      <td>0.0</td>\n",
       "      <td>1.0</td>\n",
       "      <td>11.0</td>\n",
       "      <td>0.0</td>\n",
       "      <td>0.0</td>\n",
       "      <td>0.0</td>\n",
       "      <td>0.0</td>\n",
       "      <td>0.0</td>\n",
       "      <td>...</td>\n",
       "      <td>0.0</td>\n",
       "      <td>0.0</td>\n",
       "      <td>0.0</td>\n",
       "      <td>0.0</td>\n",
       "      <td>0.0</td>\n",
       "      <td>2.0</td>\n",
       "      <td>16.0</td>\n",
       "      <td>4.0</td>\n",
       "      <td>0.0</td>\n",
       "      <td>0.0</td>\n",
       "    </tr>\n",
       "  </tbody>\n",
       "</table>\n",
       "<p>5 rows × 64 columns</p>\n",
       "</div>"
      ],
      "text/plain": [
       "   pixel_0_0  pixel_0_1  pixel_0_2  pixel_0_3  pixel_0_4  pixel_0_5  \\\n",
       "0        0.0        0.0        5.0       13.0        9.0        1.0   \n",
       "1        0.0        0.0        0.0       12.0       13.0        5.0   \n",
       "2        0.0        0.0        0.0        4.0       15.0       12.0   \n",
       "3        0.0        0.0        7.0       15.0       13.0        1.0   \n",
       "4        0.0        0.0        0.0        1.0       11.0        0.0   \n",
       "\n",
       "   pixel_0_6  pixel_0_7  pixel_1_0  pixel_1_1  ...  pixel_6_6  pixel_6_7  \\\n",
       "0        0.0        0.0        0.0        0.0  ...        0.0        0.0   \n",
       "1        0.0        0.0        0.0        0.0  ...        0.0        0.0   \n",
       "2        0.0        0.0        0.0        0.0  ...        5.0        0.0   \n",
       "3        0.0        0.0        0.0        8.0  ...        9.0        0.0   \n",
       "4        0.0        0.0        0.0        0.0  ...        0.0        0.0   \n",
       "\n",
       "   pixel_7_0  pixel_7_1  pixel_7_2  pixel_7_3  pixel_7_4  pixel_7_5  \\\n",
       "0        0.0        0.0        6.0       13.0       10.0        0.0   \n",
       "1        0.0        0.0        0.0       11.0       16.0       10.0   \n",
       "2        0.0        0.0        0.0        3.0       11.0       16.0   \n",
       "3        0.0        0.0        7.0       13.0       13.0        9.0   \n",
       "4        0.0        0.0        0.0        2.0       16.0        4.0   \n",
       "\n",
       "   pixel_7_6  pixel_7_7  \n",
       "0        0.0        0.0  \n",
       "1        0.0        0.0  \n",
       "2        9.0        0.0  \n",
       "3        0.0        0.0  \n",
       "4        0.0        0.0  \n",
       "\n",
       "[5 rows x 64 columns]"
      ]
     },
     "execution_count": 16,
     "metadata": {},
     "output_type": "execute_result"
    }
   ],
   "source": [
    "X.head() # On voit que les données sont bien présentes dans la matrice X."
   ]
  },
  {
   "cell_type": "code",
   "execution_count": 17,
   "metadata": {},
   "outputs": [
    {
     "data": {
      "text/plain": [
       "0    0\n",
       "1    1\n",
       "2    2\n",
       "3    3\n",
       "4    4\n",
       "Name: target, dtype: int32"
      ]
     },
     "execution_count": 17,
     "metadata": {},
     "output_type": "execute_result"
    }
   ],
   "source": [
    "y.head() # On voit que les données sont bien présentes dans la matrice y."
   ]
  },
  {
   "cell_type": "code",
   "execution_count": 23,
   "metadata": {},
   "outputs": [
    {
     "data": {
      "image/png": "[encoded data removed]",
      "text/plain": [
       "<Figure size 720x216 with 4 Axes>"
      ]
     },
     "metadata": {
      "needs_background": "light"
     },
     "output_type": "display_data"
    }
   ],
   "source": [
    "# Afin de visualiser les données de digits, nous allons utiliser matplotlib.\n",
    "_, axes = plt.subplots(nrows=1, ncols=4, figsize=(10, 3))\n",
    "for ax, image, label in zip(axes, images, y):\n",
    "    ax.set_axis_off()\n",
    "    ax.imshow(image, cmap=plt.cm.gray_r, interpolation=\"nearest\")\n",
    "    ax.set_title(\"Training: %i\" % label)"
   ]
  },
  {
   "cell_type": "code",
   "execution_count": null,
   "metadata": {},
   "outputs": [],
   "source": []
  }
 ],
 "metadata": {
  "interpreter": {
   "hash": "39590ddfcb86ffa5ad6cf5bf4417f29c6d887448de4ec1b3a1c93324c32c764a"
  },
  "kernelspec": {
   "display_name": "Python 3.9.7 64-bit ('fdemo_python': conda)",
   "language": "python",
   "name": "python3"
  },
  "language_info": {
   "codemirror_mode": {
    "name": "ipython",
    "version": 3
   },
   "file_extension": ".py",
   "mimetype": "text/x-python",
   "name": "python",
   "nbconvert_exporter": "python",
   "pygments_lexer": "ipython3",
   "version": "3.9.7"
  },
  "orig_nbformat": 4
 },
 "nbformat": 4,
 "nbformat_minor": 2
}
