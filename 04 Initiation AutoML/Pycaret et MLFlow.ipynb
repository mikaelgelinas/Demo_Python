{
 "cells": [
  {
   "cell_type": "markdown",
   "metadata": {},
   "source": [
    "# MLFlow\n",
    "Comme dit dans le README de l'accueil, lancer plusieurs fois Pycaret est intéressant pour obtenir différents modèles avec différentes configurations. Prendre des notes pour chaque démarrage peut devenir rapidement lassant et c'est facile d'oublier une des expérimentations et ce sera ELLE qu'on aurait voulu garder.\n",
    "\n",
    "MLFlow est un des outils qui permet de garder des traces de chacune des expérimentations. Il en existe d'autres, je vous invite à chercher ces alternatives si vous trouvez que MLFlow ne répond pas à vos besoins."
   ]
  },
  {
   "cell_type": "markdown",
   "metadata": {},
   "source": [
    "## Installation\n",
    "Pour cette partie, nous allons réutiliser l'environnement déjà créé pour Pycaret. \n",
    "\n",
    "Voici les commandes à exécuter pour activer l'environnement pour Pycaret et pour installer MLFlow:\n",
    "- `conda activate demo_pycaret`\n",
    "- `pip install mlflow`"
   ]
  },
  {
   "cell_type": "code",
   "execution_count": null,
   "metadata": {},
   "outputs": [],
   "source": [
    "import os\n",
    "from random import random, randint\n",
    "import mlflow\n",
    "from mlflow import log_metric, log_param, log_artifacts"
   ]
  },
  {
   "cell_type": "code",
   "execution_count": null,
   "metadata": {},
   "outputs": [],
   "source": [
    "# Code pour s'assurer du cas où vous auriez déjà roulé le code de la cellule suivante.\n",
    "mlflow.end_run()"
   ]
  },
  {
   "cell_type": "code",
   "execution_count": null,
   "metadata": {},
   "outputs": [],
   "source": [
    "with mlflow.start_run():\n",
    "    with mlflow.start_run(nested=True):\n",
    "        log_param(\"param\", randint(0, 100))\n",
    "        # Enregistrement d'une métrique : elles peuvent être mises à jour au cours de route\n",
    "        log_metric(\"foo\", random())\n",
    "        log_metric(\"foo\", random() + 1)\n",
    "        log_metric(\"foo\", random() + 2)\n",
    "        # Enregistrement d'un fichier dans le dossier \"artifacts\"\n",
    "        if not os.path.exists(\"outputs\"):\n",
    "            os.makedirs(\"outputs\")\n",
    "        with open(\"outputs/test.txt\", \"w\") as f:\n",
    "            f.write(\"hello world!\")\n",
    "        log_artifacts(f\"outputs\")"
   ]
  },
  {
   "cell_type": "markdown",
   "metadata": {},
   "source": [
    "### Visualisation des résultats\n",
    "Pour visualiser les résultats, dans un terminal (vous pouvez utiliser le même Anaconda prompt que vous utilisez depuis le début ou le lancer dans un terminal de vs code), veuillez faire pointer le chemin vers où se trouve le notebook actuel. Ainsi, si vous faites afficher la liste des fichiers (avec DIR ou LS), vous devriez voir le notebook et 2 répertoires (mlruns et outputs).\n",
    "\n",
    "Une fois que vous pointez au bon endroit, lancer la commande : `mlflow ui`. Ceci lancera le serveur de MLFlow localement. Vous pouvez accéder à l'interface via votre navigateur à l'adresse :\n",
    "- [http://localhost:5000](http://localhost:5000)\n",
    "\n",
    "Pour fermer le serveur, dans la fenêtre de commande (anaconda prompt ou vs code), faites un `ctrl + c`.\n",
    "\n",
    "Pour tester la visualisation, n'hésitez pas à exécuter plusieurs fois la cellule précédente."
   ]
  },
  {
   "cell_type": "markdown",
   "metadata": {},
   "source": [
    "# Jonction de Pycaret et MLFlow\n",
    "Une des raisons pour laquelle je vous ai montré Pycaret et non pas un autre AutoML, c'est l'inclusion de MLFlow dans Pycaret.\n",
    "\n",
    "Le processus de mettre MLFlow avec Pycaret s'incruste dans le processus de MLOps. Il s'agit d'un paradigme d'automatisation de l'apprentissage machine. En effet, comme nous connaissons DevOps, il est normal de vouloir déployer et d'automatiser ce processus.\n",
    "\n",
    "Le site suivant explique bien le niveau de maturité de MLOps : [Modèle de maturité MLOps](https://docs.microsoft.com/fr-ca/azure/architecture/example-scenario/mlops/mlops-maturity-model).\n",
    "\n",
    "Ainsi, avec MLOps, nous sommes partiellement dans un niveau d'automatisation. Dans ce contexte, nous devenons en mesure de répéter la génération des modèles avec une trace des paramètres utilisés."
   ]
  },
  {
   "cell_type": "code",
   "execution_count": null,
   "metadata": {},
   "outputs": [],
   "source": [
    "# Sans plus tarder, commençons Pycaret avec MLFlow.\n",
    "from pycaret.datasets import get_data\n",
    "data = get_data('diamond')"
   ]
  },
  {
   "cell_type": "markdown",
   "metadata": {},
   "source": [
    "### EDA\n",
    "l'EDA (Exploration Data Analysis - Analyse Exploratoire des Données) est une étape cruciale pour le scientifique de données. Il doit avoir une idée de ce que sont ses données. Plus il les connait, mieux il sera en mesure de valider ses modèles.\n",
    "\n",
    "En voici un petit exemple."
   ]
  },
  {
   "cell_type": "code",
   "execution_count": null,
   "metadata": {},
   "outputs": [],
   "source": [
    "import plotly.express as px\n",
    "fig = px.scatter(x=data['Carat Weight'], y=data['Price'], \n",
    "                 facet_col = data['Cut'], opacity = 0.25, template = 'plotly_dark', trendline='ols',\n",
    "                 trendline_color_override = 'red', title = 'SARAH GETS A DIAMOND - A CASE STUDY')\n",
    "fig.show()"
   ]
  },
  {
   "cell_type": "code",
   "execution_count": null,
   "metadata": {},
   "outputs": [],
   "source": [
    "fig = px.histogram(data, x=[\"Price\"], template = 'plotly_dark', title = 'Histogram of Price')\n",
    "fig.show()"
   ]
  },
  {
   "cell_type": "code",
   "execution_count": null,
   "metadata": {},
   "outputs": [],
   "source": [
    "import numpy as np\n",
    "\n",
    "# Création d'une copie de data\n",
    "data_copy = data.copy()\n",
    "\n",
    "# Ajout d'une colonne à data_copy\n",
    "data_copy['Log_Price'] = np.log(data['Price'])\n",
    "\n",
    "fig = px.histogram(data_copy, x=[\"Log_Price\"], title = 'Histgram of Log Price', template = 'plotly_dark')\n",
    "fig.show()"
   ]
  },
  {
   "cell_type": "markdown",
   "metadata": {},
   "source": [
    "### Pycaret avec MLFow\n",
    "Nous avons déjà vu dans le notebook `Pycaret.ipynb` comment fonctionnait Pycaret, dans la préparation de la cellule suivante, saurez-vous trouver la magie de MLFlow?"
   ]
  },
  {
   "cell_type": "code",
   "execution_count": null,
   "metadata": {},
   "outputs": [],
   "source": [
    "from pycaret.regression import *\n",
    "s = setup(data, target = 'Price', transform_target = True, log_experiment = True, experiment_name = 'diamond', silent = True)"
   ]
  },
  {
   "cell_type": "code",
   "execution_count": null,
   "metadata": {},
   "outputs": [],
   "source": [
    "best = compare_models()"
   ]
  },
  {
   "cell_type": "code",
   "execution_count": null,
   "metadata": {},
   "outputs": [],
   "source": [
    "plot_model(best, plot = 'residuals_interactive')"
   ]
  },
  {
   "cell_type": "code",
   "execution_count": null,
   "metadata": {},
   "outputs": [],
   "source": [
    "plot_model(best, plot = 'feature')"
   ]
  },
  {
   "cell_type": "code",
   "execution_count": null,
   "metadata": {},
   "outputs": [],
   "source": [
    "final_best = finalize_model(best)"
   ]
  },
  {
   "cell_type": "markdown",
   "metadata": {},
   "source": [
    "### Visualisation\n",
    "Je vous invite à retourner dans la page où se trouve MLFlow UI dans votre navigateur. Jusqu'à présent, vous n'aviez qu'un seul projet \"Default\", si vous appuyez sur le rafraichissement de votre navigateur, pas celui dans l'interface de MLFlow, vous verrez apparaitre un nouveau projet \"diamond\". Vous pouvez voir chacune des expérimentations que Pycaret a fait."
   ]
  },
  {
   "cell_type": "markdown",
   "metadata": {},
   "source": [
    "# Exercice\n",
    "Maintenant que vous savez comment fonctionne MLFlow et Pycaret, c'est l'heure des exercices!\n",
    "\n",
    "Cette fois-ci, il n'y en aura qu'un seul. Si vous refaites l'expérimentation des cellules précédentes, vous allez vous rendre compte que toutes les expérimentations seront sous la même run. Ce n'est pas très convivial... Je vous invite à trouver une façon de faire pour que chaque fois que vous aller exécuter Pycaret, qu'il soit sous une nouvelle run, mais toujours sous le projet diamond..."
   ]
  },
  {
   "cell_type": "code",
   "execution_count": null,
   "metadata": {},
   "outputs": [],
   "source": [
    "# Code à faire à partir d'ici. Vous pouvez créer autant de cellules que vous le souhaitez. Laissez au moins la conclusion à la fin. :)\n"
   ]
  },
  {
   "cell_type": "markdown",
   "metadata": {},
   "source": [
    "# Conclusion\n",
    "Et voilà, avec ce que vous avez vu jusqu'à présent, vous avez un début de notion de scientifique de données! Toutes mes félicitations!\n",
    "\n",
    "Ce qu'il vous resterait à explorer :\n",
    "- Faire de l'ETL (Extraction, Transformation, Loading), il s'agit d'un moyen pour rendre plus facile l'extraction des données pour le modèle.\n",
    "- Faire de l'EDA (Exploration des données).\n",
    "- Faire le déploiement du modèle. Pycaret offre des fonctionnalités pour déployer un modèle dans AWS (Amazon), Azure (Microsoft) ou même dans GCP (Google Cloud Plateform).\n",
    "- Faire le pipeline au complet de MLOps.\n",
    "- Continuer d'apprendre et de vous informer! Moi aussi, je continue d'apprendre. :)"
   ]
  },
  {
   "cell_type": "markdown",
   "metadata": {},
   "source": []
  }
 ],
 "metadata": {
  "interpreter": {
   "hash": "39590ddfcb86ffa5ad6cf5bf4417f29c6d887448de4ec1b3a1c93324c32c764a"
  },
  "kernelspec": {
   "display_name": "Python 3.9.7 ('fdemo_python')",
   "language": "python",
   "name": "python3"
  },
  "language_info": {
   "codemirror_mode": {
    "name": "ipython",
    "version": 3
   },
   "file_extension": ".py",
   "mimetype": "text/x-python",
   "name": "python",
   "nbconvert_exporter": "python",
   "pygments_lexer": "ipython3",
   "version": "3.8.12"
  },
  "orig_nbformat": 4
 },
 "nbformat": 4,
 "nbformat_minor": 2
}
