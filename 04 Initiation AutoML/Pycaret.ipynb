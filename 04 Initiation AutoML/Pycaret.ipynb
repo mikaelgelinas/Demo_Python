{
 "cells": [
  {
   "cell_type": "markdown",
   "metadata": {},
   "source": [
    "# AutoML\n",
    "Durant l'exercice précédent, nous avons regardé comment créer un modèle avec KNN. Nous avons pu voir qu'il fallait faire plusieurs expérimentations, faire de la recherche pour trouver les bons hyperparamètres. Ça peut être assez long et fastidieux. Il existe plusieurs techniques pour trouver les bons hyperparamètres, dont la recherche en grille (on boucle sur une liste de paramètres pour chaque hyperparamètre). La recherche en grille est une des techniques, ce n'est pas la meilleure, mais elle est un bon début.\n",
    "\n",
    "Imaginez, vous n'avez fait qu'un seul algorithme et ceci vous a pris un certain temps. Imaginez de le faire en boucle pour chaque hyperparamètre qui chacun a une liste de paramètres, de choix. Le nombre de boucles explose assez rapidement...\n",
    "\n",
    "Il y a encore mieux : les AutoML: Automatic Machine Learning. Cette technique est en émergence depuis quelques années et démontre ses capacités assez rapidement. Ceux que je connais sont \n",
    "- [Neuraxle](https://www.neuraxle.org/stable/intro.html)\n",
    "- [Hyperopt (qui est en délaissement)](https://hyperopt.github.io/hyperopt/)\n",
    "- [AutoKeras (pour l'apprentissage profond)](https://autokeras.com/)\n",
    "- [Pycaret](https://pycaret.gitbook.io/docs/)\n",
    "\n",
    "Dans ce notebook, nous utiliserons Pycaret car il est un de ceux que j'apprécie le plus pour sa simplicité, ses options et son développement rapide.\n",
    "\n",
    "Je tiens à mentionner Neuraxle car c'est une jeune entreprise québécoise à Québec qui développe très rapidement ce produit en source libre (open source)."
   ]
  },
  {
   "cell_type": "markdown",
   "metadata": {},
   "source": [
    "## Installation\n",
    "Pour cette partie, comme Pycaret n'est pas compatible avec python 3.9, il nous faut installer un nouvel environnement avec anaconda. \n",
    "\n",
    "N'oubliez pas de désactiver votre environnement si vous n'êtes pas dans l'environnement de base en tapant la commande : `conda deactivate`.\n",
    "\n",
    "Voici les commandes à exécuter pour créer le nouvel environnement et pour installer les paquets pour Pycaret :\n",
    "- `conda create --name demo_pycaret python=3.8`\n",
    "- `conda activate demo_pycaret`\n",
    "- `pip install ipykernel`\n",
    "- `pip install pycaret[full]`"
   ]
  },
  {
   "cell_type": "code",
   "execution_count": null,
   "metadata": {},
   "outputs": [],
   "source": [
    "from pycaret.datasets import get_data\n",
    "data = get_data('diabetes')"
   ]
  },
  {
   "cell_type": "code",
   "execution_count": null,
   "metadata": {},
   "outputs": [],
   "source": [
    "from pycaret.classification import *\n",
    "s = setup(data, target = 'Class variable', silent=True)"
   ]
  },
  {
   "cell_type": "code",
   "execution_count": null,
   "metadata": {},
   "outputs": [],
   "source": [
    "best = compare_models()"
   ]
  },
  {
   "cell_type": "code",
   "execution_count": null,
   "metadata": {},
   "outputs": [],
   "source": [
    "print(best)"
   ]
  },
  {
   "cell_type": "code",
   "execution_count": null,
   "metadata": {},
   "outputs": [],
   "source": [
    "evaluate_model(best)"
   ]
  },
  {
   "cell_type": "code",
   "execution_count": null,
   "metadata": {},
   "outputs": [],
   "source": [
    "plot_model(best, plot = 'auc')"
   ]
  },
  {
   "cell_type": "code",
   "execution_count": null,
   "metadata": {},
   "outputs": [],
   "source": [
    "plot_model(best, plot = 'confusion_matrix')"
   ]
  },
  {
   "cell_type": "code",
   "execution_count": null,
   "metadata": {},
   "outputs": [],
   "source": [
    "predict_model(best)"
   ]
  },
  {
   "cell_type": "code",
   "execution_count": null,
   "metadata": {},
   "outputs": [],
   "source": [
    "predictions = predict_model(best, data=data)\n",
    "predictions.head()"
   ]
  },
  {
   "cell_type": "code",
   "execution_count": null,
   "metadata": {},
   "outputs": [],
   "source": [
    "predictions = predict_model(best, data=data, raw_score=True)\n",
    "predictions.head()"
   ]
  },
  {
   "cell_type": "markdown",
   "metadata": {},
   "source": [
    "# Exercice\n",
    "\n",
    "Comme vous avez pu le voir, Pycaret simplifie énormément les choses, maintenant, testons le avec le même jeu de données que lors de l'exercice précédent. Est-ce que vos résultats sont meilleurs que ce Pycaret trouve pour l'algorithme KNN?"
   ]
  },
  {
   "cell_type": "code",
   "execution_count": null,
   "metadata": {},
   "outputs": [],
   "source": [
    "\n",
    "import numpy as np\n",
    "import matplotlib.pyplot as plt\n",
    "import seaborn as sns\n",
    "from matplotlib.colors import ListedColormap\n",
    "from sklearn import neighbors, datasets"
   ]
  },
  {
   "cell_type": "code",
   "execution_count": null,
   "metadata": {},
   "outputs": [],
   "source": [
    "\n",
    "iris = datasets.load_iris()"
   ]
  },
  {
   "cell_type": "code",
   "execution_count": null,
   "metadata": {},
   "outputs": [],
   "source": [
    "iris"
   ]
  },
  {
   "cell_type": "code",
   "execution_count": null,
   "metadata": {},
   "outputs": [],
   "source": [
    "df = pd.DataFrame(iris.data, columns=iris.feature_names)\n",
    "df.head()"
   ]
  },
  {
   "cell_type": "code",
   "execution_count": null,
   "metadata": {},
   "outputs": [],
   "source": [
    "df = pd.concat([df, pd.DataFrame(iris.target, columns=['target'])], axis=1)\n",
    "df.head()"
   ]
  },
  {
   "cell_type": "code",
   "execution_count": null,
   "metadata": {},
   "outputs": [],
   "source": [
    "from pycaret.classification import *\n",
    "s = setup(df, target = 'target', silent=True)"
   ]
  },
  {
   "cell_type": "code",
   "execution_count": null,
   "metadata": {},
   "outputs": [],
   "source": [
    "best = compare_models()"
   ]
  },
  {
   "cell_type": "code",
   "execution_count": null,
   "metadata": {},
   "outputs": [],
   "source": []
  }
 ],
 "metadata": {
  "interpreter": {
   "hash": "39590ddfcb86ffa5ad6cf5bf4417f29c6d887448de4ec1b3a1c93324c32c764a"
  },
  "kernelspec": {
   "display_name": "Python 3.9.7 ('fdemo_python')",
   "language": "python",
   "name": "python3"
  },
  "language_info": {
   "codemirror_mode": {
    "name": "ipython",
    "version": 3
   },
   "file_extension": ".py",
   "mimetype": "text/x-python",
   "name": "python",
   "nbconvert_exporter": "python",
   "pygments_lexer": "ipython3",
   "version": "3.8.12"
  },
  "orig_nbformat": 4
 },
 "nbformat": 4,
 "nbformat_minor": 2
}
