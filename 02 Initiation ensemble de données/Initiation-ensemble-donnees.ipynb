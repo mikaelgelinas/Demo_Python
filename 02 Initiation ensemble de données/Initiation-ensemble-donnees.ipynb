{
 "cells": [
  {
   "cell_type": "markdown",
   "metadata": {},
   "source": [
    "# Manipulation des ensembles de données\n",
    "Maintenant que nous avons une base en python, nous pouvons explorer la manipulation des données avant de commencer l'apprentissage de l'apprentissage machine.\n",
    "\n",
    "Le reste de l'exercice se fera sous la forme d'une exploration de données.\n",
    "\n",
    "Cependant, avant de rentrer dans le vif du sujet, vaut mieux avoir une connaissance de base de la manipulation des matrices!\n",
    "\n",
    "En premier, voyons numpy.\n",
    "\n",
    "Avant de commencer le code, notre environnement ne contient pas tous les paquets dont nous avons besoin. Dans une fenètre d'Anaconda prompt, activez votre environnement :\n",
    "\n",
    "`conda activate demo_python`\n",
    "\n",
    "Puis installez le paquet manquant :\n",
    "\n",
    "`pip install numpy`\n",
    "\n",
    "Une fois cette installation terminé, vous pouvez procéder à la prochaine cellule."
   ]
  },
  {
   "cell_type": "code",
   "execution_count": null,
   "metadata": {},
   "outputs": [],
   "source": [
    "import numpy as np"
   ]
  },
  {
   "cell_type": "code",
   "execution_count": null,
   "metadata": {},
   "outputs": [],
   "source": [
    "# Lors de l'apprentissage avec la démonstration de base de python, nous avons vu les listes, \n",
    "# bien qu'elles soient de bonne représentation d'une liste de chiffre, elles s'y pretent mal pour gérer les opérations mathématiques\n",
    "\n",
    "liste_nombre = [1,2,3,4,5] # C'est une liste bien ordinaire\n",
    "liste_numpy_nombre = np.array(liste_nombre) # On transforme la liste en un array de numpy\n",
    "print(f\"Somme : {liste_numpy_nombre.sum()}\")\n",
    "print(f\"Moyenne : {liste_numpy_nombre.mean()}\")\n",
    "print(f\"Maximum : {liste_numpy_nombre.max()}\")\n",
    "print(f\"Minimum : {liste_numpy_nombre.min()}\")\n",
    "\n",
    "# De plus, numpy est optimisé pour faire des opérations matricielles.\n",
    "# Je vous invite à consulter le site de numpy pour avoir une liste de toutes les opérations matricielles de numpy."
   ]
  },
  {
   "cell_type": "code",
   "execution_count": null,
   "metadata": {},
   "outputs": [],
   "source": [
    "# Nous pouvons créer des matrices facilement\n",
    "# np.ones crée une matrice ne contenant que des 1, alors que np.zeros crée une matrice ne contenant que des 0.\n",
    "matrice_carre = np.ones((3,3))\n",
    "print(matrice_carre)\n",
    "print(type(matrice_carre))\n",
    "print(matrice_carre.shape)\n",
    "# On peut créer une matrice de taille n x m\n",
    "matrice_rectangle = np.zeros((3,4))\n",
    "print(matrice_rectangle)\n",
    "print(type(matrice_rectangle))\n",
    "print(matrice_rectangle.shape)\n",
    "matrice = np.array([[1,2,3],[4,5,6]])\n",
    "print(matrice)\n",
    "print(type(matrice))\n",
    "print(matrice.shape)\n"
   ]
  },
  {
   "cell_type": "code",
   "execution_count": null,
   "metadata": {},
   "outputs": [],
   "source": [
    "# De plus, numpy est optimisé pour faire des opérations matricielles.\n",
    "\n",
    "# Pour le prouver, complétez la fonction pour calculer la multiplication de deux matrices.\n",
    "# Pour vous aider, voici comment calculer deux matrices : https://www.alloprof.qc.ca/fr/eleves/bv/mathematiques/les-operations-sur-les-matrices-m1467\n",
    "def multiplication_matrice(matrice_1, matrice_2):\n",
    "    # fonction à compléter\n",
    "    return 0 # Le résultat de votre multiplication matricielle devrait vous retourner 3.\n",
    "\n",
    "# Ne modifiez pas le reste du code de cette cellule.\n",
    "import timeit\n",
    "matrice = np.ones(3) # Création d'une matrice 3x3 ne contenant que des 1.\n",
    "\n",
    "start = timeit.default_timer()\n",
    "resultat = np.dot(matrice, matrice)\n",
    "stop = timeit.default_timer()\n",
    "print(f\"Temps pour l'opération : {stop - start}\")\n",
    "print(resultat)\n",
    "\n",
    "liste_de_liste = [] # Fausse matrice\n",
    "for i in range(3):\n",
    "    liste_de_liste.append([1,1,1])\n",
    "print(liste_de_liste)\n",
    "start = timeit.default_timer()\n",
    "resultat = multiplication_matrice(liste_de_liste, liste_de_liste)\n",
    "stop = timeit.default_timer()\n",
    "print(f\"Temps pour l'opération : {stop - start}\")\n",
    "print(resultat)\n",
    "\n"
   ]
  },
  {
   "cell_type": "code",
   "execution_count": null,
   "metadata": {},
   "outputs": [],
   "source": [
    "# Nous pourrions continuer longtemps avec numpy, mais nous allons utiliser pandas pour plus de facilité dans les opérations sur les matrices.\n",
    "# Ce qu'il faut savoir avec pandas, il utilise des objets numpy pour gérer les opérations sur les matrices.\n",
    "# Retournons dans le prompt d'Anaconda pour installer pandas. J'imagine que vous avez une idée de comment faire... ;)\n",
    "import pandas as pd"
   ]
  },
  {
   "cell_type": "code",
   "execution_count": null,
   "metadata": {},
   "outputs": [],
   "source": [
    "# Sans plus tarder, nous allons utiliser pandas pour manipuler les matrices.\n",
    "# Les séries de pandas sont des objets qui contiennent des données.\n",
    "animals = ['Tiger', 'Bear', 'Moose']\n",
    "pd.Series(animals)"
   ]
  },
  {
   "cell_type": "code",
   "execution_count": null,
   "metadata": {},
   "outputs": [],
   "source": [
    "numbers = [1, 2, 3]\n",
    "pd.Series(numbers)"
   ]
  },
  {
   "cell_type": "code",
   "execution_count": null,
   "metadata": {},
   "outputs": [],
   "source": [
    "animals = ['Tiger', 'Bear', None]\n",
    "pd.Series(animals)"
   ]
  },
  {
   "cell_type": "code",
   "execution_count": null,
   "metadata": {},
   "outputs": [],
   "source": [
    "sports = {'Archery': 'Bhutan',\n",
    "          'Golf': 'Scotland',\n",
    "          'Sumo': 'Japan',\n",
    "          'Taekwondo': 'South Korea'}\n",
    "s = pd.Series(sports)\n",
    "s"
   ]
  },
  {
   "cell_type": "code",
   "execution_count": null,
   "metadata": {},
   "outputs": [],
   "source": [
    "# Chaque instance de pandas contient des données et des informations sur les données.\n",
    "# Dont les index sont des noms qui sont utilisés pour identifier les données.\n",
    "s.index"
   ]
  },
  {
   "cell_type": "code",
   "execution_count": null,
   "metadata": {},
   "outputs": [],
   "source": [
    "# Il est possible de renommer les index.\n",
    "s = pd.Series(['Tiger', 'Bear', 'Moose'], index=['India', 'America', 'Canada'])\n",
    "s"
   ]
  },
  {
   "cell_type": "code",
   "execution_count": null,
   "metadata": {},
   "outputs": [],
   "source": [
    "sports = {'Archery': 'Bhutan',\n",
    "          'Golf': 'Scotland',\n",
    "          'Sumo': 'Japan',\n",
    "          'Taekwondo': 'South Korea'}\n",
    "s = pd.Series(sports, index=['Golf', 'Sumo', 'Hockey'])\n",
    "s"
   ]
  },
  {
   "cell_type": "markdown",
   "metadata": {},
   "source": [
    "# Séries"
   ]
  },
  {
   "cell_type": "code",
   "execution_count": null,
   "metadata": {},
   "outputs": [],
   "source": [
    "sports = {'Archery': 'Bhutan',\n",
    "          'Golf': 'Scotland',\n",
    "          'Sumo': 'Japan',\n",
    "          'Taekwondo': 'South Korea'}\n",
    "s = pd.Series(sports)\n",
    "s"
   ]
  },
  {
   "cell_type": "code",
   "execution_count": null,
   "metadata": {},
   "outputs": [],
   "source": [
    "# Nous pouvons accéder aux données de la série avec la méthode \"iloc\". Ils accèdent de la même manière aux données d'une liste.\n",
    "s.iloc[3]"
   ]
  },
  {
   "cell_type": "code",
   "execution_count": null,
   "metadata": {},
   "outputs": [],
   "source": [
    "# Nous pouvons aussi y arriver en utilisant les indices.\n",
    "s.loc['Golf']"
   ]
  },
  {
   "cell_type": "code",
   "execution_count": null,
   "metadata": {},
   "outputs": [],
   "source": [
    "# Ou les indices numériques.\n",
    "s[3]"
   ]
  },
  {
   "cell_type": "code",
   "execution_count": null,
   "metadata": {},
   "outputs": [],
   "source": [
    "# Pour plus de commodité, il est plus aisé d'utiliser le nom de l'index directement.\n",
    "s['Golf']"
   ]
  },
  {
   "cell_type": "code",
   "execution_count": 71,
   "metadata": {},
   "outputs": [],
   "source": [
    "# Voyons voir avec des indices numériques.\n",
    "sports = {99: 'Bhutan',\n",
    "          100: 'Scotland',\n",
    "          101: 'Japan',\n",
    "          102: 'South Korea'}\n",
    "s = pd.Series(sports)"
   ]
  },
  {
   "cell_type": "code",
   "execution_count": 72,
   "metadata": {},
   "outputs": [
    {
     "ename": "KeyError",
     "evalue": "0",
     "output_type": "error",
     "traceback": [
      "\u001b[1;31m---------------------------------------------------------------------------\u001b[0m",
      "\u001b[1;31mKeyError\u001b[0m                                  Traceback (most recent call last)",
      "File \u001b[1;32m~\\anaconda3\\envs\\fdemopython\\lib\\site-packages\\pandas\\core\\indexes\\base.py:3621\u001b[0m, in \u001b[0;36mIndex.get_loc\u001b[1;34m(self, key, method, tolerance)\u001b[0m\n\u001b[0;32m   <a href='file:///~/anaconda3/envs/fdemopython/lib/site-packages/pandas/core/indexes/base.py?line=3619'>3620</a>\u001b[0m \u001b[39mtry\u001b[39;00m:\n\u001b[1;32m-> <a href='file:///~/anaconda3/envs/fdemopython/lib/site-packages/pandas/core/indexes/base.py?line=3620'>3621</a>\u001b[0m     \u001b[39mreturn\u001b[39;00m \u001b[39mself\u001b[39;49m\u001b[39m.\u001b[39;49m_engine\u001b[39m.\u001b[39;49mget_loc(casted_key)\n\u001b[0;32m   <a href='file:///~/anaconda3/envs/fdemopython/lib/site-packages/pandas/core/indexes/base.py?line=3621'>3622</a>\u001b[0m \u001b[39mexcept\u001b[39;00m \u001b[39mKeyError\u001b[39;00m \u001b[39mas\u001b[39;00m err:\n",
      "File \u001b[1;32m~\\anaconda3\\envs\\fdemopython\\lib\\site-packages\\pandas\\_libs\\index.pyx:136\u001b[0m, in \u001b[0;36mpandas._libs.index.IndexEngine.get_loc\u001b[1;34m()\u001b[0m\n",
      "File \u001b[1;32m~\\anaconda3\\envs\\fdemopython\\lib\\site-packages\\pandas\\_libs\\index.pyx:163\u001b[0m, in \u001b[0;36mpandas._libs.index.IndexEngine.get_loc\u001b[1;34m()\u001b[0m\n",
      "File \u001b[1;32mpandas\\_libs\\hashtable_class_helper.pxi:2131\u001b[0m, in \u001b[0;36mpandas._libs.hashtable.Int64HashTable.get_item\u001b[1;34m()\u001b[0m\n",
      "File \u001b[1;32mpandas\\_libs\\hashtable_class_helper.pxi:2140\u001b[0m, in \u001b[0;36mpandas._libs.hashtable.Int64HashTable.get_item\u001b[1;34m()\u001b[0m\n",
      "\u001b[1;31mKeyError\u001b[0m: 0",
      "\nThe above exception was the direct cause of the following exception:\n",
      "\u001b[1;31mKeyError\u001b[0m                                  Traceback (most recent call last)",
      "\u001b[1;32mc:\\workspace\\Fujitsu\\private_demo_python\\Initiation-ensemble-donnees.ipynb Cell 22'\u001b[0m in \u001b[0;36m<module>\u001b[1;34m\u001b[0m\n\u001b[0;32m      <a href='vscode-notebook-cell:/c%3A/workspace/Fujitsu/private_demo_python/Initiation-ensemble-donnees.ipynb#ch0000021?line=0'>1</a>\u001b[0m \u001b[39m# Cette ligne va retourner une erreur, pourquoi?\u001b[39;00m\n\u001b[1;32m----> <a href='vscode-notebook-cell:/c%3A/workspace/Fujitsu/private_demo_python/Initiation-ensemble-donnees.ipynb#ch0000021?line=1'>2</a>\u001b[0m s[\u001b[39m0\u001b[39;49m]\n",
      "File \u001b[1;32m~\\anaconda3\\envs\\fdemopython\\lib\\site-packages\\pandas\\core\\series.py:958\u001b[0m, in \u001b[0;36mSeries.__getitem__\u001b[1;34m(self, key)\u001b[0m\n\u001b[0;32m    <a href='file:///~/anaconda3/envs/fdemopython/lib/site-packages/pandas/core/series.py?line=954'>955</a>\u001b[0m     \u001b[39mreturn\u001b[39;00m \u001b[39mself\u001b[39m\u001b[39m.\u001b[39m_values[key]\n\u001b[0;32m    <a href='file:///~/anaconda3/envs/fdemopython/lib/site-packages/pandas/core/series.py?line=956'>957</a>\u001b[0m \u001b[39melif\u001b[39;00m key_is_scalar:\n\u001b[1;32m--> <a href='file:///~/anaconda3/envs/fdemopython/lib/site-packages/pandas/core/series.py?line=957'>958</a>\u001b[0m     \u001b[39mreturn\u001b[39;00m \u001b[39mself\u001b[39;49m\u001b[39m.\u001b[39;49m_get_value(key)\n\u001b[0;32m    <a href='file:///~/anaconda3/envs/fdemopython/lib/site-packages/pandas/core/series.py?line=959'>960</a>\u001b[0m \u001b[39mif\u001b[39;00m is_hashable(key):\n\u001b[0;32m    <a href='file:///~/anaconda3/envs/fdemopython/lib/site-packages/pandas/core/series.py?line=960'>961</a>\u001b[0m     \u001b[39m# Otherwise index.get_value will raise InvalidIndexError\u001b[39;00m\n\u001b[0;32m    <a href='file:///~/anaconda3/envs/fdemopython/lib/site-packages/pandas/core/series.py?line=961'>962</a>\u001b[0m     \u001b[39mtry\u001b[39;00m:\n\u001b[0;32m    <a href='file:///~/anaconda3/envs/fdemopython/lib/site-packages/pandas/core/series.py?line=962'>963</a>\u001b[0m         \u001b[39m# For labels that don't resolve as scalars like tuples and frozensets\u001b[39;00m\n",
      "File \u001b[1;32m~\\anaconda3\\envs\\fdemopython\\lib\\site-packages\\pandas\\core\\series.py:1069\u001b[0m, in \u001b[0;36mSeries._get_value\u001b[1;34m(self, label, takeable)\u001b[0m\n\u001b[0;32m   <a href='file:///~/anaconda3/envs/fdemopython/lib/site-packages/pandas/core/series.py?line=1065'>1066</a>\u001b[0m     \u001b[39mreturn\u001b[39;00m \u001b[39mself\u001b[39m\u001b[39m.\u001b[39m_values[label]\n\u001b[0;32m   <a href='file:///~/anaconda3/envs/fdemopython/lib/site-packages/pandas/core/series.py?line=1067'>1068</a>\u001b[0m \u001b[39m# Similar to Index.get_value, but we do not fall back to positional\u001b[39;00m\n\u001b[1;32m-> <a href='file:///~/anaconda3/envs/fdemopython/lib/site-packages/pandas/core/series.py?line=1068'>1069</a>\u001b[0m loc \u001b[39m=\u001b[39m \u001b[39mself\u001b[39;49m\u001b[39m.\u001b[39;49mindex\u001b[39m.\u001b[39;49mget_loc(label)\n\u001b[0;32m   <a href='file:///~/anaconda3/envs/fdemopython/lib/site-packages/pandas/core/series.py?line=1069'>1070</a>\u001b[0m \u001b[39mreturn\u001b[39;00m \u001b[39mself\u001b[39m\u001b[39m.\u001b[39mindex\u001b[39m.\u001b[39m_get_values_for_loc(\u001b[39mself\u001b[39m, loc, label)\n",
      "File \u001b[1;32m~\\anaconda3\\envs\\fdemopython\\lib\\site-packages\\pandas\\core\\indexes\\base.py:3623\u001b[0m, in \u001b[0;36mIndex.get_loc\u001b[1;34m(self, key, method, tolerance)\u001b[0m\n\u001b[0;32m   <a href='file:///~/anaconda3/envs/fdemopython/lib/site-packages/pandas/core/indexes/base.py?line=3620'>3621</a>\u001b[0m     \u001b[39mreturn\u001b[39;00m \u001b[39mself\u001b[39m\u001b[39m.\u001b[39m_engine\u001b[39m.\u001b[39mget_loc(casted_key)\n\u001b[0;32m   <a href='file:///~/anaconda3/envs/fdemopython/lib/site-packages/pandas/core/indexes/base.py?line=3621'>3622</a>\u001b[0m \u001b[39mexcept\u001b[39;00m \u001b[39mKeyError\u001b[39;00m \u001b[39mas\u001b[39;00m err:\n\u001b[1;32m-> <a href='file:///~/anaconda3/envs/fdemopython/lib/site-packages/pandas/core/indexes/base.py?line=3622'>3623</a>\u001b[0m     \u001b[39mraise\u001b[39;00m \u001b[39mKeyError\u001b[39;00m(key) \u001b[39mfrom\u001b[39;00m \u001b[39merr\u001b[39;00m\n\u001b[0;32m   <a href='file:///~/anaconda3/envs/fdemopython/lib/site-packages/pandas/core/indexes/base.py?line=3623'>3624</a>\u001b[0m \u001b[39mexcept\u001b[39;00m \u001b[39mTypeError\u001b[39;00m:\n\u001b[0;32m   <a href='file:///~/anaconda3/envs/fdemopython/lib/site-packages/pandas/core/indexes/base.py?line=3624'>3625</a>\u001b[0m     \u001b[39m# If we have a listlike key, _check_indexing_error will raise\u001b[39;00m\n\u001b[0;32m   <a href='file:///~/anaconda3/envs/fdemopython/lib/site-packages/pandas/core/indexes/base.py?line=3625'>3626</a>\u001b[0m     \u001b[39m#  InvalidIndexError. Otherwise we fall through and re-raise\u001b[39;00m\n\u001b[0;32m   <a href='file:///~/anaconda3/envs/fdemopython/lib/site-packages/pandas/core/indexes/base.py?line=3626'>3627</a>\u001b[0m     \u001b[39m#  the TypeError.\u001b[39;00m\n\u001b[0;32m   <a href='file:///~/anaconda3/envs/fdemopython/lib/site-packages/pandas/core/indexes/base.py?line=3627'>3628</a>\u001b[0m     \u001b[39mself\u001b[39m\u001b[39m.\u001b[39m_check_indexing_error(key)\n",
      "\u001b[1;31mKeyError\u001b[0m: 0"
     ]
    }
   ],
   "source": [
    "# Cette ligne va retourner une erreur, pourquoi?\n",
    "s[0]"
   ]
  },
  {
   "cell_type": "code",
   "execution_count": null,
   "metadata": {},
   "outputs": [],
   "source": [
    "# Disons que nous voudrions calculer la somme des valeurs de la série.\n",
    "s = pd.Series([100.00, 120.00, 101.00, 3.00])\n",
    "\n",
    "# Quelle méthode pensez vous qui serait la plus rapide?\n",
    "# Vérifiez le avec un import de timeit...\n",
    "total = 0\n",
    "for item in s:\n",
    "    total+=item\n",
    "print(total)\n",
    "\n",
    "total = np.sum(s)\n",
    "print(total)\n",
    "\n",
    "print(s.sum())"
   ]
  },
  {
   "cell_type": "code",
   "execution_count": null,
   "metadata": {},
   "outputs": [],
   "source": [
    "# Afin d'avoir un apperçut de la série, nous allons utiliser la méthode \"describe\".\n",
    "s.describe()"
   ]
  },
  {
   "cell_type": "code",
   "execution_count": null,
   "metadata": {},
   "outputs": [],
   "source": [
    "# Et pour avoir une visualisation des données, nous allons utiliser la méthode head.\n",
    "s.head()"
   ]
  },
  {
   "cell_type": "markdown",
   "metadata": {},
   "source": [
    "# Dataframes"
   ]
  },
  {
   "cell_type": "code",
   "execution_count": null,
   "metadata": {},
   "outputs": [],
   "source": [
    "purchase_1 = pd.Series({'Name': 'Chris',\n",
    "                        'Item Purchased': 'Dog Food',\n",
    "                        'Cost': 22.50})\n",
    "purchase_2 = pd.Series({'Name': 'Kevyn',\n",
    "                        'Item Purchased': 'Kitty Litter',\n",
    "                        'Cost': 2.50})\n",
    "purchase_3 = pd.Series({'Name': 'Vinod',\n",
    "                        'Item Purchased': 'Bird Seed',\n",
    "                        'Cost': 5.00})\n",
    "df = pd.DataFrame([purchase_1, purchase_2, purchase_3], index=['Store 1', 'Store 1', 'Store 2'])\n",
    "df.head()"
   ]
  },
  {
   "cell_type": "code",
   "execution_count": null,
   "metadata": {},
   "outputs": [],
   "source": [
    "# Pour consulter la colonne \"Store 2\", nous allons utiliser la méthode \"loc\".\n",
    "df.loc['Store 2']"
   ]
  },
  {
   "cell_type": "code",
   "execution_count": null,
   "metadata": {},
   "outputs": [],
   "source": [
    "type(df.loc['Store 2'])"
   ]
  },
  {
   "cell_type": "code",
   "execution_count": null,
   "metadata": {},
   "outputs": [],
   "source": [
    "# Et pour trouver les données se trouvant sous la colonne \"Cost\" et qui contient l'index \"Store 1\" :\n",
    "df.loc['Store 1', 'Cost']"
   ]
  },
  {
   "cell_type": "code",
   "execution_count": null,
   "metadata": {},
   "outputs": [],
   "source": [
    "# Évidemment, comme nous avons vu avec les Séries, nous pouvons utiliser les même façons de faire.\n",
    "df[\"Cost\"]"
   ]
  },
  {
   "cell_type": "code",
   "execution_count": null,
   "metadata": {},
   "outputs": [],
   "source": [
    "# Pour ouvrir un fichier csv, un des contenants de données que j'ai le plus souvent vu.\n",
    "df = pd.read_csv('books.csv')"
   ]
  },
  {
   "cell_type": "code",
   "execution_count": null,
   "metadata": {},
   "outputs": [],
   "source": [
    "df.head()"
   ]
  },
  {
   "cell_type": "code",
   "execution_count": null,
   "metadata": {},
   "outputs": [],
   "source": [
    "df.describe()\n",
    "# Pourquoi pensez vous que seulement certaines colonnes ne sont pas affichées?"
   ]
  },
  {
   "cell_type": "code",
   "execution_count": null,
   "metadata": {},
   "outputs": [],
   "source": []
  }
 ],
 "metadata": {
  "interpreter": {
   "hash": "39590ddfcb86ffa5ad6cf5bf4417f29c6d887448de4ec1b3a1c93324c32c764a"
  },
  "kernelspec": {
   "display_name": "Python 3.9.7 64-bit ('fdemo_python': conda)",
   "language": "python",
   "name": "python3"
  },
  "language_info": {
   "codemirror_mode": {
    "name": "ipython",
    "version": 3
   },
   "file_extension": ".py",
   "mimetype": "text/x-python",
   "name": "python",
   "nbconvert_exporter": "python",
   "pygments_lexer": "ipython3",
   "version": "3.9.7"
  },
  "orig_nbformat": 4
 },
 "nbformat": 4,
 "nbformat_minor": 2
}
